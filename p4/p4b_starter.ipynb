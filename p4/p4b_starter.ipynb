{
 "cells": [
  {
   "cell_type": "markdown",
   "id": "bc89cc33",
   "metadata": {},
   "source": [
    "# Project 4 Part B:  Classification"
   ]
  },
  {
   "cell_type": "markdown",
   "id": "684fe083-fba1-428d-b7d7-bdf98788e147",
   "metadata": {},
   "source": [
    "## Part 1: Exploring the dataset\n",
    "We will first take a look at a subset of the provided data. Our data is stored in a CSV (comma-separated values) file. Pandas makes it easy to load and preview datasets in this format. _Make sure that the data file is in the same directory as this notebook._"
   ]
  },
  {
   "cell_type": "code",
   "execution_count": null,
   "id": "92f724f2",
   "metadata": {},
   "outputs": [],
   "source": [
    "import matplotlib.pyplot as plt\n",
    "import numpy as np\n",
    "import pandas as pd\n",
    "\n",
    "from mpl_toolkits.mplot3d import Axes3D\n",
    "\n",
    "%matplotlib qt"
   ]
  },
  {
   "cell_type": "code",
   "execution_count": null,
   "id": "e93aba5c-836c-4807-b980-1f0785b332d6",
   "metadata": {},
   "outputs": [],
   "source": [
    "dataset_path = \"iris_dataset.csv\"\n",
    "# TODO 1: Read the data file with function pd.read_csv() and display the resulting DataFrame. \n",
    "#         See Lecture 17 notebook for an example.  \n",
    "\n"
   ]
  },
  {
   "cell_type": "code",
   "execution_count": null,
   "id": "fe2b58b2-f788-4bbd-938d-7beabbd7aeac",
   "metadata": {},
   "outputs": [],
   "source": [
    "# TODO 2: Filter out the data points with any negative values,\n",
    "#         name the resulting DataFrame `fdf`, and\n",
    "#         display fdf.\n",
    "\n"
   ]
  },
  {
   "cell_type": "markdown",
   "id": "e77c590d-1d7c-42bd-a6f5-e60e79ce79e2",
   "metadata": {},
   "source": [
    "### TODO 3: Answer the questions by writing text in this cell\n",
    "\n",
    "1. What is the shape of the **original** dataset (i.e., how many rows and columns of data are there?)\n",
    "\n",
    "2. After filtering, what is the shape?"
   ]
  },
  {
   "cell_type": "markdown",
   "id": "c7d3ab8e-c688-48c4-9981-96797cf26494",
   "metadata": {},
   "source": [
    "## Part 2: Visualization"
   ]
  },
  {
   "cell_type": "markdown",
   "id": "d72c3897-9635-4ac3-9f90-1e0fef2a86b8",
   "metadata": {},
   "source": [
    "Now that the dataset has been pre-processed, we convert the _filtered_ data to it to a **NumPy array** and assigns it to the variable `data`.  This will not be a numeric 2-array that we have seen in the past because the last column of data are _strings_ and not numbers.  NumPy automatically chooses the type `object`, which can accommodate both numbers and strings, for the array.  For our purpose of creating visualizations and later performing a prediction, the type does not matter.  Just know that for any row `r`, the value in `data[r][0]`, `data[r][1]`, and `data[r][2]` would each be a number while `data[r][3]` is a string. \n",
    "\n",
    "Run the code box below and use this `data` array for the rest of the project."
   ]
  },
  {
   "cell_type": "code",
   "execution_count": null,
   "id": "e5cc8908-8a63-4725-b3c1-093c3d64f673",
   "metadata": {},
   "outputs": [],
   "source": [
    "# Convert filtered data (assuming it is called `fdf`) to a NumPy array called `data`\n",
    "data = fdf.to_numpy()\n",
    "print(np.shape(data))\n",
    "\n",
    "# Print the values of the first row as an example\n",
    "for k in range(4):\n",
    "    print(data[0][k])"
   ]
  },
  {
   "cell_type": "code",
   "execution_count": null,
   "id": "fe1e638a-6b8a-4d1c-8c62-e783b346cc5b",
   "metadata": {},
   "outputs": [],
   "source": [
    "# TODO 4: Complete the following function to return a unique color name for each species\n",
    "def species_to_color(sp):\n",
    "    \"\"\"\n",
    "    Returns (string) the name of a color for representing a species.  \n",
    "    \n",
    "    Parameter sp: (string) the name of the species, one of \"setosa\", \"versicolor\", \"virginica\".\n",
    "    \n",
    "    The returned string is one of \"blue\", \"green\", \"red\", \"cyan\", \"magenta\", \"yellow\", or \"black\".\n",
    "    Each species should be represented by a different color.\n",
    "    \"\"\"\n",
    "    pass  # Implement this function\n",
    "\n"
   ]
  },
  {
   "cell_type": "code",
   "execution_count": null,
   "id": "1ecbf80c-be50-4e73-aa49-d4d0c181d78e",
   "metadata": {},
   "outputs": [],
   "source": [
    "# TODO 5: Create a 2D scatter plot of the filtered data with \n",
    "#         sepal_length on the x-axis and sepal_width on the y-axis.\n",
    "\n"
   ]
  },
  {
   "cell_type": "code",
   "execution_count": null,
   "id": "4933a9bc-5001-41c8-bab9-eb0d70edd063",
   "metadata": {},
   "outputs": [],
   "source": [
    "# TODO 6: Create a 3D scatter plot of sepal_length, sepal_width, and petal_area\n",
    "\n",
    "# Create a figure with axes for a 3D plot\n",
    "fig = plt.figure()\n",
    "#ax = fig.add_subplot(111, projection=\"3d\")\n",
    "ax = plt.axes(projection=\"3d\")\n",
    "\n",
    "# Add your code below"
   ]
  },
  {
   "cell_type": "markdown",
   "id": "c2ceafb7-3a65-40de-b485-c5816724b40a",
   "metadata": {},
   "source": [
    "### Part 3: Performing predictions"
   ]
  },
  {
   "cell_type": "code",
   "execution_count": null,
   "id": "a950c240-9986-4f10-ae1d-29d6b4f116c1",
   "metadata": {},
   "outputs": [],
   "source": [
    "# TODO 7: Complete the function below\n",
    "def get_averages(dataset, target_species):\n",
    "    \"\"\"\n",
    "    Returns the averages of sepal length, sepal width, and petal area for a target species\n",
    "    \n",
    "    Parameters:\n",
    "        dataset: the 2-d array storing the sepal length, sepal width, petal area, and species\n",
    "        \n",
    "        target_species: (string) the target species whose average feature values are to be \n",
    "            calculated.  One of \"setosa\", \"versicolor\", \"virginica\".\n",
    "    \n",
    "    Returns a tuple (average_sepal_length, average_sepal_width, average_petal_area) \n",
    "        for the target species \n",
    "    \"\"\"\n",
    "    sepal_length = dataset[:, 0]  \n",
    "    sepal_width = dataset[:, 1] \n",
    "    petal_area = dataset[:, 2] \n",
    "    species = dataset[:, -1]\n",
    "    \n",
    "    ### Do NOT modify the code above.  Add your code BELOW.\n",
    "\n",
    "    "
   ]
  },
  {
   "cell_type": "code",
   "execution_count": null,
   "id": "cb3f00aa",
   "metadata": {},
   "outputs": [],
   "source": [
    "# Display the average sepal length, average sepal width, average petal area for each species\n",
    "print(f\"setosa: {get_averages(data, 'setosa')}\")\n",
    "print(f\"versicolor: {get_averages(data, 'versicolor')}\")\n",
    "print(f\"virginica: {get_averages(data, 'virginica')}\")"
   ]
  },
  {
   "cell_type": "code",
   "execution_count": null,
   "id": "708f3313-7c4d-485b-a0b5-3b721e6bf20a",
   "metadata": {},
   "outputs": [],
   "source": [
    "# TODO 8: Implement the distance function to compute the Euclidean distance\n",
    "#         between two data points\n",
    "def dist(p, q):\n",
    "    \"\"\" \n",
    "    Returns the Euclidean distance between the point p and the point q\n",
    "    \n",
    "    Paramters p, q: each is a length 3 array representing the feature values\n",
    "        sepal length, sepal width, and petal area\n",
    "    \"\"\"\n",
    "    pass  # Implement this function\n",
    "\n",
    "   "
   ]
  },
  {
   "cell_type": "code",
   "execution_count": null,
   "id": "a8071170-e769-4e6e-90eb-3618cafcb104",
   "metadata": {},
   "outputs": [],
   "source": [
    "# TODO 9: Implement the nearest-neighbor algorithm\n",
    "def nearest_neighbor(newpoint, dataset):\n",
    "    \"\"\"\n",
    "    Returns a tuple of the feature values and label of the point in `dataset` that is\n",
    "        nearest to `newpoint` \n",
    "    \n",
    "    Parameters:\n",
    "        newpoint: length 3 array of the feature values (sepal length, sepal width, \n",
    "            and petal area) of a point\n",
    "        \n",
    "        dataset: the 2-d array storing the sepal length, sepal width, petal area, and species\n",
    "        \n",
    "    Returns a tuple (values, label) of the point in `dataset` that is nearest to `newpoint`,\n",
    "        where values is a length 3 array storing sepal length, sepal width, and petal area, \n",
    "        and label is the species (string).\n",
    "    \"\"\"\n",
    "    \n",
    "    allvalues = dataset[:, 0:-1]  # all feature values of the data in dataset (3 columns)\n",
    "    labels = dataset[:, -1]       # all the species labels of the data in the dataset\n",
    "\n",
    "    ### Do NOT modify the code above.  Add your code BELOW.\n",
    "\n"
   ]
  },
  {
   "cell_type": "code",
   "execution_count": null,
   "id": "6fdd370c-4dae-441d-aaeb-4f45d444c0bd",
   "metadata": {},
   "outputs": [],
   "source": [
    "# TODO 10: Given a new data point, predict its species by calling your\n",
    "#   nearest_neighbor function.\n",
    "#   Print the predicted label (species).\n",
    "#   OPTIONAL: Additionally draw a 3-d scatter plot of the dataset, the new\n",
    "#             data point, a line connecting the new data point to its\n",
    "#             nearest neighbor in the datasest. Add a title to show the\n",
    "#             predicted label.\n",
    "\n",
    "# New data point\n",
    "test_point = np.array([5,3,2])\n",
    "\n",
    "### Do NOT modify the code above. \n",
    "#   Add code BELOW to predict and print the species of `test_point`.  \n",
    "\n"
   ]
  }
 ],
 "metadata": {
  "kernelspec": {
   "display_name": "Python 3 (ipykernel)",
   "language": "python",
   "name": "python3"
  },
  "language_info": {
   "codemirror_mode": {
    "name": "ipython",
    "version": 3
   },
   "file_extension": ".py",
   "mimetype": "text/x-python",
   "name": "python",
   "nbconvert_exporter": "python",
   "pygments_lexer": "ipython3",
   "version": "3.11.4"
  }
 },
 "nbformat": 4,
 "nbformat_minor": 5
}
